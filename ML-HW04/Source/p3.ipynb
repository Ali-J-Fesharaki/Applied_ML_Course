{
  "cells": [
    {
      "cell_type": "code",
      "execution_count": 2,
      "metadata": {
        "colab": {
          "base_uri": "https://localhost:8080/"
        },
        "id": "uS-xxgHutdHt",
        "outputId": "1866a13d-e60a-4bfb-e7e7-2954f814680d"
      },
      "outputs": [
        {
          "name": "stdout",
          "output_type": "stream",
          "text": [
            "   Time        V1        V2        V3        V4        V5        V6        V7  \\\n",
            "0   0.0 -1.359807 -0.072781  2.536347  1.378155 -0.338321  0.462388  0.239599   \n",
            "1   0.0  1.191857  0.266151  0.166480  0.448154  0.060018 -0.082361 -0.078803   \n",
            "2   1.0 -1.358354 -1.340163  1.773209  0.379780 -0.503198  1.800499  0.791461   \n",
            "3   1.0 -0.966272 -0.185226  1.792993 -0.863291 -0.010309  1.247203  0.237609   \n",
            "4   2.0 -1.158233  0.877737  1.548718  0.403034 -0.407193  0.095921  0.592941   \n",
            "\n",
            "         V8        V9  ...       V21       V22       V23       V24       V25  \\\n",
            "0  0.098698  0.363787  ... -0.018307  0.277838 -0.110474  0.066928  0.128539   \n",
            "1  0.085102 -0.255425  ... -0.225775 -0.638672  0.101288 -0.339846  0.167170   \n",
            "2  0.247676 -1.514654  ...  0.247998  0.771679  0.909412 -0.689281 -0.327642   \n",
            "3  0.377436 -1.387024  ... -0.108300  0.005274 -0.190321 -1.175575  0.647376   \n",
            "4 -0.270533  0.817739  ... -0.009431  0.798278 -0.137458  0.141267 -0.206010   \n",
            "\n",
            "        V26       V27       V28  Amount  Class  \n",
            "0 -0.189115  0.133558 -0.021053  149.62    '0'  \n",
            "1  0.125895 -0.008983  0.014724    2.69    '0'  \n",
            "2 -0.139097 -0.055353 -0.059752  378.66    '0'  \n",
            "3 -0.221929  0.062723  0.061458  123.50    '0'  \n",
            "4  0.502292  0.219422  0.215153   69.99    '0'  \n",
            "\n",
            "[5 rows x 31 columns]\n",
            "Index(['Time', 'V1', 'V2', 'V3', 'V4', 'V5', 'V6', 'V7', 'V8', 'V9', 'V10',\n",
            "       'V11', 'V12', 'V13', 'V14', 'V15', 'V16', 'V17', 'V18', 'V19', 'V20',\n",
            "       'V21', 'V22', 'V23', 'V24', 'V25', 'V26', 'V27', 'V28', 'Amount',\n",
            "       'Class'],\n",
            "      dtype='object')\n",
            "valid purchases: 284315\n",
            "raudulent purchases: 492\n",
            "Theoretical Accuracy: 0.9982725143693799\n"
          ]
        }
      ],
      "source": [
        "import pandas as pd\n",
        "\n",
        "data = pd.read_csv('./creditcard.csv')\n",
        "\n",
        "print(data.head())\n",
        "\n",
        "print(data.columns)\n",
        "\n",
        "valid_purchases = data[data['Class'] == \"'0'\"].shape[0]\n",
        "fraudulent_purchases = data[data['Class'] == \"'1'\"].shape[0]\n",
        "\n",
        "print(\"valid purchases:\", valid_purchases)\n",
        "print(\"raudulent purchases:\", fraudulent_purchases)\n",
        "\n",
        "total_purchases = valid_purchases + fraudulent_purchases\n",
        "\n",
        "accuracy_when_all_zero = valid_purchases / total_purchases\n",
        "\n",
        "print(\"Theoretical Accuracy:\", accuracy_when_all_zero)\n"
      ]
    },
    {
      "cell_type": "code",
      "execution_count": 4,
      "metadata": {
        "colab": {
          "base_uri": "https://localhost:8080/"
        },
        "id": "6n7K4yja4Zlo",
        "outputId": "e5baaab5-051f-4bbc-e692-2b236887ff63"
      },
      "outputs": [
        {
          "name": "stdout",
          "output_type": "stream",
          "text": [
            "Confusion Matrix:\n",
            " [[284315      0]\n",
            " [   492      0]]\n"
          ]
        }
      ],
      "source": [
        "import numpy as np\n",
        "from sklearn.metrics import confusion_matrix\n",
        "from sklearn.preprocessing import LabelEncoder\n",
        "\n",
        "label_encoder = LabelEncoder()\n",
        "data['Class'] = label_encoder.fit_transform(data['Class'])\n",
        "\n",
        "y = data['Class']\n",
        "\n",
        "y_allZero = np.zeros_like(y)\n",
        "\n",
        "print(\"Confusion Matrix:\\n\", confusion_matrix(y, y_allZero))"
      ]
    },
    {
      "cell_type": "code",
      "execution_count": 5,
      "metadata": {
        "colab": {
          "base_uri": "https://localhost:8080/"
        },
        "id": "bxH9KMamYe53",
        "outputId": "fce6074f-91f6-465a-d6d4-20b72afb953b"
      },
      "outputs": [
        {
          "name": "stdout",
          "output_type": "stream",
          "text": [
            "Training set size: (227845, 30)\n",
            "Testing set size: (56962, 30)\n"
          ]
        }
      ],
      "source": [
        "from sklearn.model_selection import train_test_split\n",
        "from sklearn.preprocessing import LabelEncoder\n",
        "\n",
        "label_encoder = LabelEncoder()\n",
        "data['Class'] = label_encoder.fit_transform(data['Class'])\n",
        "\n",
        "X = data.drop('Class', axis=1)\n",
        "y = data['Class']\n",
        "\n",
        "X_train, X_test, y_train, y_test = train_test_split(X, y, test_size=0.20, random_state=13)\n",
        "\n",
        "print(\"Training set size:\", X_train.shape)\n",
        "print(\"Testing set size:\", X_test.shape)"
      ]
    },
    {
      "cell_type": "code",
      "execution_count": 8,
      "metadata": {
        "colab": {
          "base_uri": "https://localhost:8080/"
        },
        "id": "oRZkHWMdZEqv",
        "outputId": "02270509-25ce-4e8a-c5b1-338b0970c95f"
      },
      "outputs": [
        {
          "name": "stdout",
          "output_type": "stream",
          "text": [
            "linear_SVM_accuracy: 0.9984726659878516\n",
            "linear_SVM_recall: 0.3\n",
            "linear_SVM_precision: 0.5294117647058824\n",
            "linear_SVM_f1_score: 0.3829787234042553\n"
          ]
        }
      ],
      "source": [
        "from sklearn.svm import SVC\n",
        "from sklearn.metrics import accuracy_score ,recall_score, precision_score, f1_score\n",
        "\n",
        "linear_svm = SVC(kernel='linear')\n",
        "linear_svm.fit(X_train, y_train)\n",
        "y_pred_linear = linear_svm.predict(X_test)\n",
        "print(\"linear_SVM_accuracy:\",accuracy_score(y_test, y_pred_linear))\n",
        "print(\"linear_SVM_recall:\",recall_score(y_test, y_pred_linear))\n",
        "print(\"linear_SVM_precision:\",precision_score(y_test, y_pred_linear))\n",
        "print(\"linear_SVM_f1_score:\",f1_score(y_test, y_pred_linear))\n",
        "# rbf_svm = SVC(kernel='rbf')\n",
        "# rbf_svm.fit(X_train, y_train)\n",
        "# y_pred_linear = rbf_svm.predict(X_test)\n",
        "# print(\"RBF_SVM_accuracy:\",accuracy_score(y_test, y_pred_linear))\n",
        "# print(\"RBF_SVM_recall:\",recall_score(y_test, y_pred_linear))\n",
        "# print(\"RBF_SVM_precision:\",precision_score(y_test, y_pred_linear))\n",
        "# print(\"RBF_SVM_f1_score:\",f1_score(y_test, y_pred_linear))\n"
      ]
    },
    {
      "cell_type": "code",
      "execution_count": 11,
      "metadata": {
        "colab": {
          "base_uri": "https://localhost:8080/"
        },
        "id": "iu7chclzeRW1",
        "outputId": "4acd1981-70d3-4836-e951-ea0227a6e903"
      },
      "outputs": [
        {
          "name": "stdout",
          "output_type": "stream",
          "text": [
            "SVM Model:\n",
            " [[56848    24]\n",
            " [   63    27]]\n",
            "Part b:\n",
            " [[284315      0]\n",
            " [   492      0]]\n"
          ]
        }
      ],
      "source": [
        "from sklearn.metrics import classification_report, accuracy_score, confusion_matrix\n",
        "\n",
        "y_pred_linear = linear_svm.predict(X_test)\n",
        "\n",
        "\n",
        "print(\"SVM Model:\\n\", confusion_matrix(y_test, y_pred_linear))\n",
        "\n",
        "\n",
        "y = data['Class']\n",
        "\n",
        "y_allZero = np.zeros_like(y)\n",
        "\n",
        "print(\"Part b:\\n\", confusion_matrix(y, y_allZero))"
      ]
    }
  ],
  "metadata": {
    "colab": {
      "collapsed_sections": [
        "TrFPfe0Z7y_7",
        "9wpMzZDstX2_",
        "HBA5VIMn4Wnw",
        "ZpzbQ3tLYb0X",
        "g49gZRdXZBxY",
        "0u_kE8fheOu-"
      ],
      "provenance": []
    },
    "kernelspec": {
      "display_name": "Python 3",
      "name": "python3"
    },
    "language_info": {
      "codemirror_mode": {
        "name": "ipython",
        "version": 3
      },
      "file_extension": ".py",
      "mimetype": "text/x-python",
      "name": "python",
      "nbconvert_exporter": "python",
      "pygments_lexer": "ipython3",
      "version": "3.10.12"
    }
  },
  "nbformat": 4,
  "nbformat_minor": 0
}
