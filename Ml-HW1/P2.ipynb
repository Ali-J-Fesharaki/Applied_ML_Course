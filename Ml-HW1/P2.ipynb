{
 "cells": [
  {
   "cell_type": "code",
   "execution_count": 1,
   "metadata": {},
   "outputs": [
    {
     "name": "stdout",
     "output_type": "stream",
     "text": [
      "Image 1 shape: (63, 63, 3)\n",
      "Image 2 shape: (44, 50, 3)\n",
      "Image 3 shape: (124, 131, 3)\n"
     ]
    },
    {
     "name": "stderr",
     "output_type": "stream",
     "text": [
      "Only C and default locale supported with the posix collation implementation\n",
      "Only C and default locale supported with the posix collation implementation\n",
      "Case insensitive sorting unsupported in the posix collation implementation\n",
      "Numeric mode unsupported in the posix collation implementation\n",
      "Only C and default locale supported with the posix collation implementation\n",
      "Only C and default locale supported with the posix collation implementation\n",
      "Case insensitive sorting unsupported in the posix collation implementation\n",
      "Numeric mode unsupported in the posix collation implementation\n",
      "Only C and default locale supported with the posix collation implementation\n",
      "Only C and default locale supported with the posix collation implementation\n",
      "Case insensitive sorting unsupported in the posix collation implementation\n",
      "Numeric mode unsupported in the posix collation implementation\n"
     ]
    }
   ],
   "source": [
    "import cv2\n",
    "import os\n",
    "import numpy as np\n",
    "import random\n",
    "\n",
    "# a. Load the images in the 'Dataset_02' directory using the 'opencv' library.\n",
    "dataset_path = 'Dataset_02'\n",
    "images = []\n",
    "for filename in os.listdir(dataset_path):\n",
    "    if filename.endswith('.png'):\n",
    "        img = cv2.imread(os.path.join(dataset_path, filename))\n",
    "        images.append(img)\n",
    "\n",
    "# b. Select 3 random images and display them on the screen. Explain the three dimensions in the shape of the images.\n",
    "random_images = random.sample(images, 3)\n",
    "for i, img in enumerate(random_images):\n",
    "    cv2.imshow(f'Image {i+1}', img)\n",
    "    print(f\"Image {i+1} shape: {img.shape}\")  # Shape gives (height, width, channels)\n",
    "\n",
    "cv2.waitKey(0)\n",
    "cv2.destroyAllWindows()\n",
    "\n",
    "# c. What are the pros and cons of using color images compared to grayscale images?\n",
    "#    Apply grayscale conversion to the images if needed.\n",
    "# Pros of color images: Preserve more information about the scene, useful for tasks like object recognition.\n",
    "# Cons of color images: Larger file sizes, computational complexity.\n",
    "# Grayscale conversion reduces the complexity and can be beneficial for tasks focusing only on intensity information.\n",
    "gray_images = [cv2.cvtColor(img, cv2.COLOR_BGR2GRAY) for img in images]\n",
    "\n",
    "# d. What are the effects of image brightness and contrast on the visual quality and image interpretation?\n",
    "#    Why would you consider adjusting these parameters as a preprocessing step? Adjust the brightness\n",
    "#    and contrast of the images using proper approach(es).\n",
    "# Brightness and contrast adjustments affect the overall appearance of the image. \n",
    "# Adjusting these parameters can enhance image quality, improve visual interpretation, and help in preprocessing tasks.\n",
    "def adjust_brightness_contrast(img, brightness=0, contrast=0):\n",
    "    \"\"\"\n",
    "    Function to adjust brightness and contrast of an image.\n",
    "    \"\"\"\n",
    "    if brightness != 0:\n",
    "        if brightness > 0:\n",
    "            shadow = brightness\n",
    "            highlight = 255\n",
    "        else:\n",
    "            shadow = 0\n",
    "            highlight = 255 + brightness\n",
    "        alpha_b = (highlight - shadow) / 255\n",
    "        gamma_b = shadow\n",
    "\n",
    "        img = cv2.addWeighted(img, alpha_b, img, 0, gamma_b)\n",
    "\n",
    "    if contrast != 0:\n",
    "        f = 131 * (contrast + 127) / (127 * (131 - contrast))\n",
    "        alpha_c = f\n",
    "        gamma_c = 127 * (1 - f)\n",
    "\n",
    "        img = cv2.addWeighted(img, alpha_c, img, 0, gamma_c)\n",
    "\n",
    "    return img\n",
    "\n",
    "adjusted_images = [adjust_brightness_contrast(img, brightness=50, contrast=20) for img in images]\n",
    "\n",
    "# e. What is image normalization? What challenges may arise if images are not normalized? Properly normalize the loaded image.\n",
    "# Image normalization is the process of scaling pixel values to a standard range, usually [0, 1] or [-1, 1].\n",
    "# Challenges of not normalizing images include: difficulty in comparing images with varying intensity ranges,\n",
    "# issues with convergence in machine learning algorithms, and potentially slower training.\n",
    "normalized_images = [cv2.normalize(img, None, alpha=0, beta=1, norm_type=cv2.NORM_MINMAX, dtype=cv2.CV_32F) for img in images]\n"
   ]
  },
  {
   "cell_type": "code",
   "execution_count": null,
   "metadata": {},
   "outputs": [],
   "source": []
  }
 ],
 "metadata": {
  "kernelspec": {
   "display_name": ".venv",
   "language": "python",
   "name": "python3"
  },
  "language_info": {
   "codemirror_mode": {
    "name": "ipython",
    "version": 3
   },
   "file_extension": ".py",
   "mimetype": "text/x-python",
   "name": "python",
   "nbconvert_exporter": "python",
   "pygments_lexer": "ipython3",
   "version": "3.10.12"
  }
 },
 "nbformat": 4,
 "nbformat_minor": 2
}
