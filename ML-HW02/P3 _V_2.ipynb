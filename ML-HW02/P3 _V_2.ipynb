{
 "cells": [
  {
   "cell_type": "code",
   "execution_count": 229,
   "metadata": {},
   "outputs": [],
   "source": [
    "import pandas as pd\n",
    "import numpy as np\n",
    "\n",
    "df_emails=pd.read_csv('./datasets/emails.csv')\n",
    "df_emails['sentences'] = df_emails['text'].str.split('\\n')\n",
    "df_emails['sentences']=df_emails['sentences'].apply(lambda x: [i.split('\\t') for i in x if len(i)>0])\n",
    "df_emails['sentences']=df_emails['sentences'].apply(lambda x:' '.join(map(' '.join,x)))\n",
    "df_emails['sentences']=df_emails['sentences'].apply(lambda x:x.replace('\\ufeff',''))\n"
   ]
  },
  {
   "cell_type": "code",
   "execution_count": null,
   "metadata": {},
   "outputs": [],
   "source": [
    "from hazm import Normalizer, word_tokenize, stopwords_list, Stemmer\n",
    "normalizer = Normalizer()\n",
    "stemmer = Stemmer()\n",
    "def preprocess_text(text):\n",
    "    # Normalize text\n",
    "    text = normalizer.normalize(text)\n",
    "    \n",
    "    # Tokenize text\n",
    "    tokens = word_tokenize(text)\n",
    "    \n",
    "    # Remove punctuation and stopwords, and perform stemming\n",
    "    cleaned_tokens = [stemmer.stem(token) for token in tokens if token not in stopwords_list() and token.isalnum()]\n",
    "    \n",
    "    return cleaned_tokens\n",
    "\n",
    "# Apply preprocessing to each email in the dataset\n",
    "df_emails['cleaned_text'] = df_emails['sentences'].apply(preprocess_text)"
   ]
  },
  {
   "cell_type": "code",
   "execution_count": 231,
   "metadata": {},
   "outputs": [
    {
     "name": "stdout",
     "output_type": "stream",
     "text": [
      "Optimal value of K: 6\n",
      "Accuracy: 0.9766666666666667\n"
     ]
    }
   ],
   "source": [
    "from sklearn.feature_extraction.text import TfidfVectorizer\n",
    "from sklearn.neighbors import KNeighborsClassifier\n",
    "from sklearn.metrics import accuracy_score\n",
    "from sklearn.model_selection import train_test_split\n",
    "\n",
    "# Convert text data into numerical features using TF-IDF vectorization\n",
    "tfidf_vectorizer = TfidfVectorizer(analyzer='word', tokenizer=lambda x: x, preprocessor=lambda x: x, token_pattern=None)\n",
    "X_train_tfidf = tfidf_vectorizer.fit_transform(X)\n",
    "X_train, X_test, Y_train, Y_test = train_test_split(X_train_tfidf, Y, test_size=0.3, random_state=42)\n",
    "\n",
    "\n",
    "# Train KNN classifiers for different values of K\n",
    "k_values = list(range(1, 21))\n",
    "accuracy_scores = []\n",
    "\n",
    "for k in k_values:\n",
    "    knn_classifier = KNeighborsClassifier(n_neighbors=k)\n",
    "    knn_classifier.fit(X_train, Y_train)\n",
    "    Y_pred = knn_classifier.predict(X_test)\n",
    "    accuracy = accuracy_score(Y_test, Y_pred)\n",
    "    accuracy_scores.append(accuracy)\n",
    "\n",
    "# Find the optimal value of K based on the highest accuracy\n",
    "optimal_k = k_values[accuracy_scores.index(max(accuracy_scores))]\n",
    "\n",
    "print(\"Optimal value of K:\", optimal_k)\n",
    "print(\"Accuracy:\", max(accuracy_scores))"
   ]
  },
  {
   "cell_type": "code",
   "execution_count": 232,
   "metadata": {},
   "outputs": [
    {
     "name": "stdout",
     "output_type": "stream",
     "text": [
      "Average accuracy: 0.9670\n",
      "accuracy Standard Deviation: 0.0149\n",
      "Average precision: 0.9728\n",
      "precision Standard Deviation: 0.0279\n",
      "Average recall: 0.9601\n",
      "recall Standard Deviation: 0.0212\n",
      "Average f1: 0.9660\n",
      "f1 Standard Deviation: 0.0167\n"
     ]
    }
   ],
   "source": [
    "from sklearn.model_selection import cross_val_score, KFold\n",
    "import numpy as np\n",
    "\n",
    "knn=KNeighborsClassifier(n_neighbors=optimal_k)\n",
    "# Perform 10-fold cross-validation\n",
    "kf = KFold(n_splits=10, shuffle=True, random_state=42)\n",
    "\n",
    "# Define the scoring metrics\n",
    "scoring = ['accuracy', 'precision', 'recall', 'f1']\n",
    "\n",
    "# Store the scores for each metric\n",
    "scores = {metric: cross_val_score(knn, X_train_tfidf, Y, cv=kf, scoring=metric) for metric in scoring}\n",
    "\n",
    "# Compute average and standard deviation for each metric\n",
    "avg_scores = {metric: np.mean(scores[metric]) for metric in scoring}\n",
    "std_scores = {metric: np.std(scores[metric]) for metric in scoring}\n",
    "\n",
    "# Print results\n",
    "for metric in scoring:\n",
    "    print(\"Average {}: {:.4f}\".format(metric, avg_scores[metric]))\n",
    "    print(\"{} Standard Deviation: {:.4f}\".format(metric, std_scores[metric]))"
   ]
  }
 ],
 "metadata": {
  "kernelspec": {
   "display_name": ".venv",
   "language": "python",
   "name": "python3"
  },
  "language_info": {
   "codemirror_mode": {
    "name": "ipython",
    "version": 3
   },
   "file_extension": ".py",
   "mimetype": "text/x-python",
   "name": "python",
   "nbconvert_exporter": "python",
   "pygments_lexer": "ipython3",
   "version": "3.10.12"
  }
 },
 "nbformat": 4,
 "nbformat_minor": 2
}
