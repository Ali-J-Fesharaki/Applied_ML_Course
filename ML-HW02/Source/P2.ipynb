{
 "cells": [
  {
   "cell_type": "code",
   "execution_count": null,
   "metadata": {},
   "outputs": [],
   "source": [
    "import pandas as pd\n",
    "\n",
    "# Load dataset\n",
    "framingham_data = pd.read_csv(\"./datasets/framingham.csv\")\n",
    "\n",
    "# Information about features and missing values\n",
    "print(framingham_data.info())\n",
    "print(framingham_data.isnull().sum())"
   ]
  },
  {
   "cell_type": "code",
   "execution_count": 5,
   "metadata": {},
   "outputs": [],
   "source": [
    "# Removing duplicate rows\n",
    "framingham_data = framingham_data.drop_duplicates()\n",
    "\n",
    "# Handling missing values\n",
    "# For simplicity, let's fill missing values with mean for numerical features\n",
    "framingham_data.fillna(framingham_data.mean(), inplace=True)"
   ]
  },
  {
   "cell_type": "code",
   "execution_count": null,
   "metadata": {},
   "outputs": [],
   "source": [
    "from sklearn.feature_selection import SelectKBest, f_classif\n",
    "\n",
    "# Features and target variable\n",
    "X = framingham_data.drop(columns=['TenYearCHD'])\n",
    "y = framingham_data['TenYearCHD']\n",
    "\n",
    "# Selecting 10 best features\n",
    "selector = SelectKBest(score_func=f_classif, k=10)\n",
    "X_selected = selector.fit_transform(X, y)\n",
    "\n",
    "# Get the selected feature indices\n",
    "selected_features_indices = selector.get_support(indices=True)\n",
    "selected_features = X.columns[selected_features_indices]\n",
    "selected_features"
   ]
  },
  {
   "cell_type": "code",
   "execution_count": 9,
   "metadata": {},
   "outputs": [],
   "source": [
    "from sklearn.model_selection import train_test_split\n",
    "from sklearn.preprocessing import StandardScaler\n",
    "\n",
    "# Splitting the dataset into training and testing sets (40/60)\n",
    "X_train, X_test, y_train, y_test = train_test_split(X_selected, y, test_size=0.6, random_state=42)\n",
    "\n",
    "# Data scaling\n",
    "scaler = StandardScaler()\n",
    "X_train_scaled = scaler.fit_transform(X_train)\n",
    "X_test_scaled = scaler.transform(X_test)"
   ]
  },
  {
   "cell_type": "code",
   "execution_count": 10,
   "metadata": {},
   "outputs": [],
   "source": [
    "from sklearn.neighbors import KNeighborsClassifier\n",
    "\n",
    "# Training the KNN classifier\n",
    "knn = KNeighborsClassifier(n_neighbors=3)\n",
    "knn.fit(X_train_scaled, y_train)\n",
    "\n",
    "# Predicting on the test set\n",
    "y_pred = knn.predict(X_test_scaled)"
   ]
  },
  {
   "cell_type": "code",
   "execution_count": null,
   "metadata": {},
   "outputs": [],
   "source": [
    "from sklearn.metrics import confusion_matrix, accuracy_score, r2_score\n",
    "\n",
    "# Confusion matrix\n",
    "conf_matrix = confusion_matrix(y_test, y_pred)\n",
    "\n",
    "# Accuracy\n",
    "accuracy = accuracy_score(y_test, y_pred)\n",
    "\n",
    "# R2 Score (not applicable for classification, maybe you meant another metric?)\n",
    "r2 = r2_score(y_test, y_pred)\n",
    "\n",
    "print(\"Confusion Matrix:\")\n",
    "print(conf_matrix)\n",
    "print(\"Accuracy:\", accuracy)\n",
    "print(\"R2 Score:\", r2)\n"
   ]
  },
  {
   "cell_type": "code",
   "execution_count": null,
   "metadata": {},
   "outputs": [],
   "source": [
    "# Training the KNN classifier with a different distance metric\n",
    "knn_custom = KNeighborsClassifier(n_neighbors=3, metric='manhattan')\n",
    "knn_custom.fit(X_train_scaled, y_train)\n",
    "\n",
    "# Predicting on the test set\n",
    "y_pred_custom = knn_custom.predict(X_test_scaled)\n",
    "\n",
    "# Evaluation\n",
    "conf_matrix_custom = confusion_matrix(y_test, y_pred_custom)\n",
    "accuracy_custom = accuracy_score(y_test, y_pred_custom)\n",
    "r2 = r2_score(y_test, y_pred)\n",
    "print(\"Confusion Matrix with custom distance metric:\")\n",
    "print(conf_matrix_custom)\n",
    "print(\"Accuracy with custom distance metric:\", accuracy_custom)\n",
    "print(\"R2 Score:\", r2)\n"
   ]
  },
  {
   "cell_type": "code",
   "execution_count": null,
   "metadata": {},
   "outputs": [],
   "source": [
    "\n",
    "from sklearn.decomposition import PCA\n",
    "\n",
    "# Perform PCA\n",
    "pca = PCA(n_components=10)\n",
    "X_train_pca = pca.fit_transform(X_train_scaled)\n",
    "X_test_pca = pca.transform(X_test_scaled)\n",
    "\n",
    "# Retraining the KNN classifier with PCA-transformed features\n",
    "knn_pca = KNeighborsClassifier(n_neighbors=3)\n",
    "knn_pca.fit(X_train_pca, y_train)\n",
    "\n",
    "# Predicting on the test set\n",
    "y_pred_pca = knn_pca.predict(X_test_pca)\n",
    "\n",
    "# Evaluation\n",
    "conf_matrix_pca = confusion_matrix(y_test, y_pred_pca)\n",
    "accuracy_pca = accuracy_score(y_test, y_pred_pca)\n",
    "\n",
    "print(\"Confusion Matrix with PCA:\")\n",
    "print(conf_matrix_pca)\n",
    "print(\"Accuracy with PCA:\", accuracy_pca)\n",
    "print(\"R2 Score:\", r2)\n"
   ]
  }
 ],
 "metadata": {
  "kernelspec": {
   "display_name": ".venv",
   "language": "python",
   "name": "python3"
  },
  "language_info": {
   "codemirror_mode": {
    "name": "ipython",
    "version": 3
   },
   "file_extension": ".py",
   "mimetype": "text/x-python",
   "name": "python",
   "nbconvert_exporter": "python",
   "pygments_lexer": "ipython3",
   "version": "3.10.12"
  }
 },
 "nbformat": 4,
 "nbformat_minor": 2
}
