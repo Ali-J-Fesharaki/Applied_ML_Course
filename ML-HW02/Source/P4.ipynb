{
 "cells": [
  {
   "cell_type": "code",
   "execution_count": 14,
   "metadata": {},
   "outputs": [],
   "source": [
    "import cv2\n",
    "import os\n",
    "import pandas as pd\n",
    "\n",
    "# Function to preprocess image\n",
    "def preprocess_image(image_path, target_size=(30, 30)):\n",
    "    # Read the image\n",
    "    img = cv2.imread(image_path)\n",
    "    # Resize the image\n",
    "    img = cv2.resize(img, target_size)\n",
    "    # Convert image to grayscale\n",
    "    img_gray = cv2.cvtColor(img, cv2.COLOR_BGR2GRAY)\n",
    "    # Normalize the image\n",
    "    img_normalized = img_gray / 255.0\n",
    "    return img_normalized\n",
    "\n",
    "# Define the directory containing the images\n",
    "directory = \"./datasets/dogs-vs-cats/train\"\n",
    "\n",
    "# Initialize lists to store data\n",
    "data = []\n",
    "labels = []\n",
    "# Loop through the files in the directory\n",
    "for filename in os.listdir(directory):\n",
    "    if filename.startswith(\"dog\"):\n",
    "        label = 0  # Dog label\n",
    "    elif filename.startswith(\"cat\"):\n",
    "        label = 1  # Cat label\n",
    "    else:\n",
    "        continue  # Skip files that don't start with \"dog\" or \"cat\"\n",
    "\n",
    "    # Preprocess the image\n",
    "    image_path = os.path.join(directory, filename)\n",
    "    processed_image = preprocess_image(image_path)\n",
    "\n",
    "    # Flatten the image and add to data list\n",
    "    data.append(processed_image.flatten())\n",
    "    labels.append(label)\n",
    "\n",
    "\n",
    "# Convert lists to DataFrame\n",
    "df = pd.DataFrame(data)\n",
    "df[\"label\"] = labels\n",
    "df.to_csv(\"train.csv\",index=False)"
   ]
  },
  {
   "cell_type": "code",
   "execution_count": null,
   "metadata": {},
   "outputs": [],
   "source": [
    "import pandas as pd\n",
    "df=pd.read_csv(\"train.csv\",index_col='Unnamed: 0')\n",
    "df.head()"
   ]
  },
  {
   "cell_type": "code",
   "execution_count": 17,
   "metadata": {},
   "outputs": [],
   "source": [
    "import cv2\n",
    "import os\n",
    "import pandas as pd\n",
    "\n",
    "# Function to preprocess image\n",
    "def preprocess_image(image_path, target_size=(30, 30)):\n",
    "    # Read the image\n",
    "    img = cv2.imread(image_path)\n",
    "    # Convert image to grayscale\n",
    "    img_gray = cv2.cvtColor(img, cv2.COLOR_BGR2GRAY)\n",
    "    # Resize the image\n",
    "    img_resized = cv2.resize(img_gray, target_size)\n",
    "    # Normalize the image\n",
    "    img_normalized = img_resized / 255.0\n",
    "    return img_normalized\n",
    "\n",
    "# Define the directory containing the images\n",
    "image_directory = \"./datasets/dogs-vs-cats/test1\"\n",
    "\n",
    "# Initialize lists to store data\n",
    "Data= []\n",
    "Base=[]\n",
    "# Loop through the files in the directory\n",
    "for filename in os.listdir(image_directory):\n",
    "    # Preprocess the image\n",
    "    base, extension = os.path.splitext(filename)\n",
    "    image_path = os.path.join(image_directory, filename)\n",
    "    processed_image = preprocess_image(image_path)\n",
    "\n",
    "    # Add the file name to the data\n",
    "    Data.append(processed_image.flatten())\n",
    "    Base.append(base)\n",
    "\n",
    "# Convert list to DataFrame\n",
    "df_test = pd.DataFrame(Data)\n",
    "df_test[\"id\"] = Base\n",
    "df_test = df_test.sort_values(by='id').set_index('id')\n",
    "# Read the labels CSV file\n",
    "df_labels= pd.read_csv(\"./datasets/dogs-vs-cats/sampleSubmission.csv\")\n",
    "\n",
    "# Merge the labels with the test DataFrame based on the image ID\n",
    "df_test['label']=df_labels['label'].values\n",
    "# Save the test DataFrame to CSV file\n",
    "df_test.to_csv(\"test.csv\", index=False)\n"
   ]
  },
  {
   "cell_type": "code",
   "execution_count": null,
   "metadata": {},
   "outputs": [],
   "source": [
    "import pandas as pd\n",
    "df=pd.read_csv(\"test.csv\")\n",
    "df.head()"
   ]
  },
  {
   "cell_type": "code",
   "execution_count": 3,
   "metadata": {},
   "outputs": [],
   "source": [
    "x=df.drop(\"label\",axis=1).values\n",
    "y=df[\"label\"].values"
   ]
  },
  {
   "cell_type": "code",
   "execution_count": 31,
   "metadata": {},
   "outputs": [],
   "source": [
    "df_train=pd.read_csv(\"train.csv\",index_col=\"Unnamed: 0\")\n",
    "x=df_train.drop(\"label\",axis=1).values\n",
    "y=df_train[\"label\"].values\n"
   ]
  },
  {
   "cell_type": "code",
   "execution_count": 32,
   "metadata": {},
   "outputs": [],
   "source": [
    "from sklearn.model_selection import train_test_split\n",
    "x_train,x_test,y_train,y_test=train_test_split(x,y,test_size=0.2,random_state=42)"
   ]
  },
  {
   "cell_type": "code",
   "execution_count": null,
   "metadata": {},
   "outputs": [],
   "source": [
    "from sklearn.neighbors import KNeighborsClassifier\n",
    "from sklearn.metrics import classification_report\n",
    "\n",
    "# Train KNN classifier\n",
    "knn = KNeighborsClassifier(n_neighbors=5)\n",
    "knn.fit(x_train, y_train)\n",
    "\n",
    "# Predict labels for test set\n",
    "y_pred = knn.predict(x_test)\n",
    "\n",
    "# Evaluate performance\n",
    "print(classification_report(y_test, y_pred))"
   ]
  },
  {
   "cell_type": "code",
   "execution_count": 35,
   "metadata": {},
   "outputs": [
    {
     "name": "stdout",
     "output_type": "stream",
     "text": [
      "Average accuracy: 0.5616\n",
      "accuracy Standard Deviation: 0.0070\n",
      "Average precision: 0.5457\n",
      "precision Standard Deviation: 0.0080\n",
      "Average recall: 0.7360\n",
      "recall Standard Deviation: 0.0086\n",
      "Average f1: 0.6267\n",
      "f1 Standard Deviation: 0.0072\n"
     ]
    }
   ],
   "source": [
    "from sklearn.model_selection import cross_val_score, KFold\n",
    "import numpy as np\n",
    "\n",
    "\n",
    "# Perform 10-fold cross-validation\n",
    "kf = KFold(n_splits=10, shuffle=True, random_state=42)\n",
    "\n",
    "# Define the scoring metrics\n",
    "scoring = ['accuracy', 'precision', 'recall', 'f1']\n",
    "\n",
    "# Store the scores for each metric\n",
    "scores = {metric: cross_val_score(knn, x, y, cv=kf, scoring=metric) for metric in scoring}\n",
    "\n",
    "# Compute average and standard deviation for each metric\n",
    "avg_scores = {metric: np.mean(scores[metric]) for metric in scoring}\n",
    "std_scores = {metric: np.std(scores[metric]) for metric in scoring}\n",
    "\n",
    "# Print results\n",
    "for metric in scoring:\n",
    "    print(\"Average {}: {:.4f}\".format(metric, avg_scores[metric]))\n",
    "    print(\"{} Standard Deviation: {:.4f}\".format(metric, std_scores[metric]))\n"
   ]
  }
 ],
 "metadata": {
  "kernelspec": {
   "display_name": ".venv",
   "language": "python",
   "name": "python3"
  },
  "language_info": {
   "codemirror_mode": {
    "name": "ipython",
    "version": 3
   },
   "file_extension": ".py",
   "mimetype": "text/x-python",
   "name": "python",
   "nbconvert_exporter": "python",
   "pygments_lexer": "ipython3",
   "version": "3.10.12"
  }
 },
 "nbformat": 4,
 "nbformat_minor": 2
}
