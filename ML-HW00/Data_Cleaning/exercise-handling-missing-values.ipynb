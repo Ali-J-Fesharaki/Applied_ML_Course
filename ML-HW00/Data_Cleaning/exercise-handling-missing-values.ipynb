{
 "cells": [
  {
   "cell_type": "markdown",
   "id": "e4673359",
   "metadata": {
    "papermill": {
     "duration": 0.009035,
     "end_time": "2024-03-26T07:27:43.385892",
     "exception": false,
     "start_time": "2024-03-26T07:27:43.376857",
     "status": "completed"
    },
    "tags": []
   },
   "source": [
    "**This notebook is an exercise in the [Data Cleaning](https://www.kaggle.com/learn/data-cleaning) course.  You can reference the tutorial at [this link](https://www.kaggle.com/alexisbcook/handling-missing-values).**\n",
    "\n",
    "---\n"
   ]
  },
  {
   "cell_type": "markdown",
   "id": "19332c81",
   "metadata": {
    "papermill": {
     "duration": 0.007942,
     "end_time": "2024-03-26T07:27:43.402240",
     "exception": false,
     "start_time": "2024-03-26T07:27:43.394298",
     "status": "completed"
    },
    "tags": []
   },
   "source": [
    "In this exercise, you'll apply what you learned in the **Handling missing values** tutorial.\n",
    "\n",
    "# Setup\n",
    "\n",
    "The questions below will give you feedback on your work. Run the following cell to set up the feedback system."
   ]
  },
  {
   "cell_type": "code",
   "execution_count": 1,
   "id": "112e1f6d",
   "metadata": {
    "execution": {
     "iopub.execute_input": "2024-03-26T07:27:43.421603Z",
     "iopub.status.busy": "2024-03-26T07:27:43.420848Z",
     "iopub.status.idle": "2024-03-26T07:27:54.075324Z",
     "shell.execute_reply": "2024-03-26T07:27:54.073548Z"
    },
    "papermill": {
     "duration": 10.667764,
     "end_time": "2024-03-26T07:27:54.078150",
     "exception": false,
     "start_time": "2024-03-26T07:27:43.410386",
     "status": "completed"
    },
    "tags": []
   },
   "outputs": [
    {
     "name": "stderr",
     "output_type": "stream",
     "text": [
      "/opt/conda/lib/python3.10/site-packages/learntools/data_cleaning/ex1.py:6: DtypeWarning: Columns (22,32) have mixed types. Specify dtype option on import or set low_memory=False.\n",
      "  sf_permits = pd.read_csv(\"../input/building-permit-applications-data/Building_Permits.csv\")\n",
      "/tmp/ipykernel_19/3419995878.py:3: DeprecationWarning: `product` is deprecated as of NumPy 1.25.0, and will be removed in NumPy 2.0. Please use `prod` instead.\n",
      "  from learntools.data_cleaning.ex1 import *\n",
      "/opt/conda/lib/python3.10/site-packages/learntools/data_cleaning/ex1.py:69: FutureWarning: DataFrame.fillna with 'method' is deprecated and will raise in a future version. Use obj.ffill() or obj.bfill() instead.\n",
      "  _expected = sf_permits.fillna(method='bfill', axis=0).fillna(0)\n"
     ]
    },
    {
     "name": "stdout",
     "output_type": "stream",
     "text": [
      "Setup Complete\n"
     ]
    }
   ],
   "source": [
    "from learntools.core import binder\n",
    "binder.bind(globals())\n",
    "from learntools.data_cleaning.ex1 import *\n",
    "print(\"Setup Complete\")"
   ]
  },
  {
   "cell_type": "markdown",
   "id": "83b66b52",
   "metadata": {
    "papermill": {
     "duration": 0.008227,
     "end_time": "2024-03-26T07:27:54.095821",
     "exception": false,
     "start_time": "2024-03-26T07:27:54.087594",
     "status": "completed"
    },
    "tags": []
   },
   "source": [
    "# 1) Take a first look at the data\n",
    "\n",
    "Run the next code cell to load in the libraries and dataset you'll use to complete the exercise."
   ]
  },
  {
   "cell_type": "code",
   "execution_count": 2,
   "id": "75313794",
   "metadata": {
    "execution": {
     "iopub.execute_input": "2024-03-26T07:27:54.116094Z",
     "iopub.status.busy": "2024-03-26T07:27:54.114470Z",
     "iopub.status.idle": "2024-03-26T07:27:56.394536Z",
     "shell.execute_reply": "2024-03-26T07:27:56.392717Z"
    },
    "papermill": {
     "duration": 2.293095,
     "end_time": "2024-03-26T07:27:56.397554",
     "exception": false,
     "start_time": "2024-03-26T07:27:54.104459",
     "status": "completed"
    },
    "tags": []
   },
   "outputs": [
    {
     "name": "stderr",
     "output_type": "stream",
     "text": [
      "/tmp/ipykernel_19/3534875831.py:6: DtypeWarning: Columns (22,32) have mixed types. Specify dtype option on import or set low_memory=False.\n",
      "  sf_permits = pd.read_csv(\"../input/building-permit-applications-data/Building_Permits.csv\")\n"
     ]
    }
   ],
   "source": [
    "# modules we'll use\n",
    "import pandas as pd\n",
    "import numpy as np\n",
    "\n",
    "# read in all our data\n",
    "sf_permits = pd.read_csv(\"../input/building-permit-applications-data/Building_Permits.csv\")\n",
    "\n",
    "# set seed for reproducibility\n",
    "np.random.seed(0) "
   ]
  },
  {
   "cell_type": "markdown",
   "id": "8383c49e",
   "metadata": {
    "papermill": {
     "duration": 0.00906,
     "end_time": "2024-03-26T07:27:56.415424",
     "exception": false,
     "start_time": "2024-03-26T07:27:56.406364",
     "status": "completed"
    },
    "tags": []
   },
   "source": [
    "Use the code cell below to print the first five rows of the `sf_permits` DataFrame."
   ]
  },
  {
   "cell_type": "code",
   "execution_count": 3,
   "id": "7b89f87d",
   "metadata": {
    "execution": {
     "iopub.execute_input": "2024-03-26T07:27:56.436866Z",
     "iopub.status.busy": "2024-03-26T07:27:56.436374Z",
     "iopub.status.idle": "2024-03-26T07:27:56.442223Z",
     "shell.execute_reply": "2024-03-26T07:27:56.440738Z"
    },
    "papermill": {
     "duration": 0.020269,
     "end_time": "2024-03-26T07:27:56.444926",
     "exception": false,
     "start_time": "2024-03-26T07:27:56.424657",
     "status": "completed"
    },
    "tags": []
   },
   "outputs": [],
   "source": [
    "# TODO: Your code here!\n"
   ]
  },
  {
   "cell_type": "markdown",
   "id": "8fa0005a",
   "metadata": {
    "papermill": {
     "duration": 0.008543,
     "end_time": "2024-03-26T07:27:56.463555",
     "exception": false,
     "start_time": "2024-03-26T07:27:56.455012",
     "status": "completed"
    },
    "tags": []
   },
   "source": [
    "Does the dataset have any missing values?  Once you have an answer, run the code cell below to get credit for your work."
   ]
  },
  {
   "cell_type": "code",
   "execution_count": 4,
   "id": "ecec0542",
   "metadata": {
    "execution": {
     "iopub.execute_input": "2024-03-26T07:27:56.484247Z",
     "iopub.status.busy": "2024-03-26T07:27:56.483704Z",
     "iopub.status.idle": "2024-03-26T07:27:56.496261Z",
     "shell.execute_reply": "2024-03-26T07:27:56.495330Z"
    },
    "papermill": {
     "duration": 0.027696,
     "end_time": "2024-03-26T07:27:56.500143",
     "exception": false,
     "start_time": "2024-03-26T07:27:56.472447",
     "status": "completed"
    },
    "tags": []
   },
   "outputs": [
    {
     "data": {
      "application/javascript": [
       "parent.postMessage({\"jupyterEvent\": \"custom.exercise_interaction\", \"data\": {\"outcomeType\": 1, \"valueTowardsCompletion\": 0.16666666666666666, \"interactionType\": 1, \"questionType\": 4, \"questionId\": \"1_TakeFirstLook\", \"learnToolsVersion\": \"0.3.4\", \"failureMessage\": \"\", \"exceptionClass\": \"\", \"trace\": \"\"}}, \"*\")"
      ],
      "text/plain": [
       "<IPython.core.display.Javascript object>"
      ]
     },
     "metadata": {},
     "output_type": "display_data"
    },
    {
     "data": {
      "text/markdown": [
       "<span style=\"color:#33cc33\">Correct:</span> \n",
       "\n",
       "The first five rows of the data does show that several columns have missing values.  You can see this in the \"Street Number Suffix\", \"Proposed Construction Type\" and \"Site Permit\" columns, among others."
      ],
      "text/plain": [
       "Correct: \n",
       "\n",
       "The first five rows of the data does show that several columns have missing values.  You can see this in the \"Street Number Suffix\", \"Proposed Construction Type\" and \"Site Permit\" columns, among others."
      ]
     },
     "metadata": {},
     "output_type": "display_data"
    }
   ],
   "source": [
    "# Check your answer (Run this code cell to receive credit!)\n",
    "q1.check()"
   ]
  },
  {
   "cell_type": "code",
   "execution_count": 5,
   "id": "3450733b",
   "metadata": {
    "execution": {
     "iopub.execute_input": "2024-03-26T07:27:56.522019Z",
     "iopub.status.busy": "2024-03-26T07:27:56.521477Z",
     "iopub.status.idle": "2024-03-26T07:27:56.527355Z",
     "shell.execute_reply": "2024-03-26T07:27:56.525950Z"
    },
    "papermill": {
     "duration": 0.020733,
     "end_time": "2024-03-26T07:27:56.530700",
     "exception": false,
     "start_time": "2024-03-26T07:27:56.509967",
     "status": "completed"
    },
    "tags": []
   },
   "outputs": [],
   "source": [
    "# Line below will give you a hint\n",
    "#q1.hint()"
   ]
  },
  {
   "cell_type": "markdown",
   "id": "4eaef252",
   "metadata": {
    "papermill": {
     "duration": 0.009644,
     "end_time": "2024-03-26T07:27:56.550922",
     "exception": false,
     "start_time": "2024-03-26T07:27:56.541278",
     "status": "completed"
    },
    "tags": []
   },
   "source": [
    "# 2) How many missing data points do we have?\n",
    "\n",
    "What percentage of the values in the dataset are missing?  Your answer should be a number between 0 and 100.  (If 1/4 of the values in the dataset are missing, the answer is 25.)"
   ]
  },
  {
   "cell_type": "code",
   "execution_count": 6,
   "id": "a5ce3d40",
   "metadata": {
    "execution": {
     "iopub.execute_input": "2024-03-26T07:27:56.572232Z",
     "iopub.status.busy": "2024-03-26T07:27:56.571756Z",
     "iopub.status.idle": "2024-03-26T07:27:57.068688Z",
     "shell.execute_reply": "2024-03-26T07:27:57.067570Z"
    },
    "papermill": {
     "duration": 0.510464,
     "end_time": "2024-03-26T07:27:57.071189",
     "exception": false,
     "start_time": "2024-03-26T07:27:56.560725",
     "status": "completed"
    },
    "tags": []
   },
   "outputs": [
    {
     "data": {
      "application/javascript": [
       "parent.postMessage({\"jupyterEvent\": \"custom.exercise_interaction\", \"data\": {\"outcomeType\": 1, \"valueTowardsCompletion\": 0.16666666666666666, \"interactionType\": 1, \"questionType\": 1, \"questionId\": \"2_PercentMissingValues\", \"learnToolsVersion\": \"0.3.4\", \"failureMessage\": \"\", \"exceptionClass\": \"\", \"trace\": \"\"}}, \"*\")"
      ],
      "text/plain": [
       "<IPython.core.display.Javascript object>"
      ]
     },
     "metadata": {},
     "output_type": "display_data"
    },
    {
     "data": {
      "text/markdown": [
       "<span style=\"color:#33cc33\">Correct</span>"
      ],
      "text/plain": [
       "Correct"
      ]
     },
     "metadata": {},
     "output_type": "display_data"
    }
   ],
   "source": [
    "# TODO: Your code here!\n",
    "missing_values_count = sf_permits.isnull().sum()\n",
    "\n",
    "# how many total missing values do we have?\n",
    "total_cells = np.product(sf_permits.shape)\n",
    "total_missing = missing_values_count.sum()\n",
    "\n",
    "# percent of data that is missing\n",
    "percent_missing = (total_missing/total_cells) * 100\n",
    "# Check your answer\n",
    "q2.check()"
   ]
  },
  {
   "cell_type": "code",
   "execution_count": 7,
   "id": "c0f56510",
   "metadata": {
    "execution": {
     "iopub.execute_input": "2024-03-26T07:27:57.093279Z",
     "iopub.status.busy": "2024-03-26T07:27:57.092740Z",
     "iopub.status.idle": "2024-03-26T07:27:57.103472Z",
     "shell.execute_reply": "2024-03-26T07:27:57.102029Z"
    },
    "papermill": {
     "duration": 0.025327,
     "end_time": "2024-03-26T07:27:57.106375",
     "exception": false,
     "start_time": "2024-03-26T07:27:57.081048",
     "status": "completed"
    },
    "tags": []
   },
   "outputs": [
    {
     "data": {
      "application/javascript": [
       "parent.postMessage({\"jupyterEvent\": \"custom.exercise_interaction\", \"data\": {\"interactionType\": 3, \"questionType\": 1, \"questionId\": \"2_PercentMissingValues\", \"learnToolsVersion\": \"0.3.4\", \"valueTowardsCompletion\": 0.0, \"failureMessage\": \"\", \"exceptionClass\": \"\", \"trace\": \"\", \"outcomeType\": 4}}, \"*\")"
      ],
      "text/plain": [
       "<IPython.core.display.Javascript object>"
      ]
     },
     "metadata": {},
     "output_type": "display_data"
    },
    {
     "data": {
      "text/markdown": [
       "<span style=\"color:#33cc99\">Solution:</span> \n",
       "```python\n",
       "# get the number of missing data points per column\n",
       "missing_values_count = sf_permits.isnull().sum()\n",
       "\n",
       "# how many total missing values do we have?\n",
       "total_cells = np.product(sf_permits.shape)\n",
       "total_missing = missing_values_count.sum()\n",
       "\n",
       "# percent of data that is missing\n",
       "percent_missing = (total_missing/total_cells) * 100\n",
       "\n",
       "```"
      ],
      "text/plain": [
       "Solution: \n",
       "```python\n",
       "# get the number of missing data points per column\n",
       "missing_values_count = sf_permits.isnull().sum()\n",
       "\n",
       "# how many total missing values do we have?\n",
       "total_cells = np.product(sf_permits.shape)\n",
       "total_missing = missing_values_count.sum()\n",
       "\n",
       "# percent of data that is missing\n",
       "percent_missing = (total_missing/total_cells) * 100\n",
       "\n",
       "```"
      ]
     },
     "metadata": {},
     "output_type": "display_data"
    }
   ],
   "source": [
    "# Lines below will give you a hint or solution code\n",
    "#q2.hint()\n",
    "q2.solution()"
   ]
  },
  {
   "cell_type": "markdown",
   "id": "16907e1d",
   "metadata": {
    "papermill": {
     "duration": 0.009734,
     "end_time": "2024-03-26T07:27:57.126197",
     "exception": false,
     "start_time": "2024-03-26T07:27:57.116463",
     "status": "completed"
    },
    "tags": []
   },
   "source": [
    "# 3) Figure out why the data is missing\n",
    "\n",
    "Look at the columns **\"Street Number Suffix\"** and **\"Zipcode\"** from the [San Francisco Building Permits dataset](https://www.kaggle.com/aparnashastry/building-permit-applications-data). Both of these contain missing values. \n",
    "- Which, if either, are missing because they don't exist? \n",
    "- Which, if either, are missing because they weren't recorded?  \n",
    "\n",
    "Once you have an answer, run the code cell below."
   ]
  },
  {
   "cell_type": "code",
   "execution_count": 8,
   "id": "3420b040",
   "metadata": {
    "execution": {
     "iopub.execute_input": "2024-03-26T07:27:57.148581Z",
     "iopub.status.busy": "2024-03-26T07:27:57.148108Z",
     "iopub.status.idle": "2024-03-26T07:27:57.158463Z",
     "shell.execute_reply": "2024-03-26T07:27:57.157111Z"
    },
    "papermill": {
     "duration": 0.024938,
     "end_time": "2024-03-26T07:27:57.161270",
     "exception": false,
     "start_time": "2024-03-26T07:27:57.136332",
     "status": "completed"
    },
    "tags": []
   },
   "outputs": [
    {
     "data": {
      "application/javascript": [
       "parent.postMessage({\"jupyterEvent\": \"custom.exercise_interaction\", \"data\": {\"outcomeType\": 1, \"valueTowardsCompletion\": 0.16666666666666666, \"interactionType\": 1, \"questionType\": 4, \"questionId\": \"3_WhyDataMissing\", \"learnToolsVersion\": \"0.3.4\", \"failureMessage\": \"\", \"exceptionClass\": \"\", \"trace\": \"\"}}, \"*\")"
      ],
      "text/plain": [
       "<IPython.core.display.Javascript object>"
      ]
     },
     "metadata": {},
     "output_type": "display_data"
    },
    {
     "data": {
      "text/markdown": [
       "<span style=\"color:#33cc33\">Correct:</span> \n",
       "\n",
       "If a value in the \"Street Number Suffix\" column is missing, it is likely because it does not exist. If a value in the \"Zipcode\" column is missing, it was not recorded."
      ],
      "text/plain": [
       "Correct: \n",
       "\n",
       "If a value in the \"Street Number Suffix\" column is missing, it is likely because it does not exist. If a value in the \"Zipcode\" column is missing, it was not recorded."
      ]
     },
     "metadata": {},
     "output_type": "display_data"
    }
   ],
   "source": [
    "# Check your answer (Run this code cell to receive credit!)\n",
    "q3.check()"
   ]
  },
  {
   "cell_type": "code",
   "execution_count": 9,
   "id": "8e69050b",
   "metadata": {
    "execution": {
     "iopub.execute_input": "2024-03-26T07:27:57.184682Z",
     "iopub.status.busy": "2024-03-26T07:27:57.184228Z",
     "iopub.status.idle": "2024-03-26T07:27:57.189859Z",
     "shell.execute_reply": "2024-03-26T07:27:57.188436Z"
    },
    "papermill": {
     "duration": 0.021086,
     "end_time": "2024-03-26T07:27:57.192784",
     "exception": false,
     "start_time": "2024-03-26T07:27:57.171698",
     "status": "completed"
    },
    "tags": []
   },
   "outputs": [],
   "source": [
    "# Line below will give you a hint\n",
    "#q3.hint()"
   ]
  },
  {
   "cell_type": "markdown",
   "id": "93846292",
   "metadata": {
    "papermill": {
     "duration": 0.010992,
     "end_time": "2024-03-26T07:27:57.215488",
     "exception": false,
     "start_time": "2024-03-26T07:27:57.204496",
     "status": "completed"
    },
    "tags": []
   },
   "source": [
    "# 4) Drop missing values: rows\n",
    "\n",
    "If you removed all of the rows of `sf_permits` with missing values, how many rows are left?\n",
    "\n",
    "**Note**: Do not change the value of `sf_permits` when checking this.  "
   ]
  },
  {
   "cell_type": "code",
   "execution_count": 10,
   "id": "ac9b5341",
   "metadata": {
    "execution": {
     "iopub.execute_input": "2024-03-26T07:27:57.238336Z",
     "iopub.status.busy": "2024-03-26T07:27:57.237923Z",
     "iopub.status.idle": "2024-03-26T07:27:57.243910Z",
     "shell.execute_reply": "2024-03-26T07:27:57.242575Z"
    },
    "papermill": {
     "duration": 0.020516,
     "end_time": "2024-03-26T07:27:57.246643",
     "exception": false,
     "start_time": "2024-03-26T07:27:57.226127",
     "status": "completed"
    },
    "tags": []
   },
   "outputs": [],
   "source": [
    "# TODO: Your code here!\n"
   ]
  },
  {
   "cell_type": "markdown",
   "id": "a8a31887",
   "metadata": {
    "papermill": {
     "duration": 0.010299,
     "end_time": "2024-03-26T07:27:57.267591",
     "exception": false,
     "start_time": "2024-03-26T07:27:57.257292",
     "status": "completed"
    },
    "tags": []
   },
   "source": [
    "Once you have an answer, run the code cell below."
   ]
  },
  {
   "cell_type": "code",
   "execution_count": 11,
   "id": "0fca7b23",
   "metadata": {
    "execution": {
     "iopub.execute_input": "2024-03-26T07:27:57.291129Z",
     "iopub.status.busy": "2024-03-26T07:27:57.290673Z",
     "iopub.status.idle": "2024-03-26T07:27:57.301462Z",
     "shell.execute_reply": "2024-03-26T07:27:57.299944Z"
    },
    "papermill": {
     "duration": 0.025918,
     "end_time": "2024-03-26T07:27:57.303952",
     "exception": false,
     "start_time": "2024-03-26T07:27:57.278034",
     "status": "completed"
    },
    "tags": []
   },
   "outputs": [
    {
     "data": {
      "application/javascript": [
       "parent.postMessage({\"jupyterEvent\": \"custom.exercise_interaction\", \"data\": {\"outcomeType\": 1, \"valueTowardsCompletion\": 0.16666666666666666, \"interactionType\": 1, \"questionType\": 4, \"questionId\": \"4_DropMissingRows\", \"learnToolsVersion\": \"0.3.4\", \"failureMessage\": \"\", \"exceptionClass\": \"\", \"trace\": \"\"}}, \"*\")"
      ],
      "text/plain": [
       "<IPython.core.display.Javascript object>"
      ]
     },
     "metadata": {},
     "output_type": "display_data"
    },
    {
     "data": {
      "text/markdown": [
       "<span style=\"color:#33cc33\">Correct:</span> \n",
       "\n",
       "There are no rows remaining in the dataset!"
      ],
      "text/plain": [
       "Correct: \n",
       "\n",
       "There are no rows remaining in the dataset!"
      ]
     },
     "metadata": {},
     "output_type": "display_data"
    }
   ],
   "source": [
    "# Check your answer (Run this code cell to receive credit!)\n",
    "q4.check()"
   ]
  },
  {
   "cell_type": "code",
   "execution_count": 12,
   "id": "f994c77e",
   "metadata": {
    "execution": {
     "iopub.execute_input": "2024-03-26T07:27:57.329122Z",
     "iopub.status.busy": "2024-03-26T07:27:57.328618Z",
     "iopub.status.idle": "2024-03-26T07:27:57.333955Z",
     "shell.execute_reply": "2024-03-26T07:27:57.332758Z"
    },
    "papermill": {
     "duration": 0.020757,
     "end_time": "2024-03-26T07:27:57.336423",
     "exception": false,
     "start_time": "2024-03-26T07:27:57.315666",
     "status": "completed"
    },
    "tags": []
   },
   "outputs": [],
   "source": [
    "# Line below will give you a hint\n",
    "#q4.hint()"
   ]
  },
  {
   "cell_type": "markdown",
   "id": "271d08d5",
   "metadata": {
    "papermill": {
     "duration": 0.010665,
     "end_time": "2024-03-26T07:27:57.358580",
     "exception": false,
     "start_time": "2024-03-26T07:27:57.347915",
     "status": "completed"
    },
    "tags": []
   },
   "source": [
    "# 5) Drop missing values: columns\n",
    "\n",
    "Now try removing all the columns with empty values.  \n",
    "- Create a new DataFrame called `sf_permits_with_na_dropped` that has all of the columns with empty values removed.  \n",
    "- How many columns were removed from the original `sf_permits` DataFrame? Use this number to set the value of the `dropped_columns` variable below."
   ]
  },
  {
   "cell_type": "code",
   "execution_count": 13,
   "id": "71cd764c",
   "metadata": {
    "execution": {
     "iopub.execute_input": "2024-03-26T07:27:57.382081Z",
     "iopub.status.busy": "2024-03-26T07:27:57.381623Z",
     "iopub.status.idle": "2024-03-26T07:27:57.896929Z",
     "shell.execute_reply": "2024-03-26T07:27:57.895797Z"
    },
    "papermill": {
     "duration": 0.529883,
     "end_time": "2024-03-26T07:27:57.899185",
     "exception": false,
     "start_time": "2024-03-26T07:27:57.369302",
     "status": "completed"
    },
    "tags": []
   },
   "outputs": [
    {
     "data": {
      "application/javascript": [
       "parent.postMessage({\"jupyterEvent\": \"custom.exercise_interaction\", \"data\": {\"outcomeType\": 1, \"valueTowardsCompletion\": 0.16666666666666666, \"interactionType\": 1, \"questionType\": 1, \"questionId\": \"5_DropMissingCols\", \"learnToolsVersion\": \"0.3.4\", \"failureMessage\": \"\", \"exceptionClass\": \"\", \"trace\": \"\"}}, \"*\")"
      ],
      "text/plain": [
       "<IPython.core.display.Javascript object>"
      ]
     },
     "metadata": {},
     "output_type": "display_data"
    },
    {
     "data": {
      "text/markdown": [
       "<span style=\"color:#33cc33\">Correct</span>"
      ],
      "text/plain": [
       "Correct"
      ]
     },
     "metadata": {},
     "output_type": "display_data"
    }
   ],
   "source": [
    "# TODO: Your code here\n",
    "sf_permits_with_na_dropped = ____\n",
    "\n",
    "# remove all columns with at least one missing value\n",
    "sf_permits_with_na_dropped = sf_permits.dropna(axis=1)\n",
    "\n",
    "# calculate number of dropped columns\n",
    "cols_in_original_dataset = sf_permits.shape[1]\n",
    "cols_in_na_dropped = sf_permits_with_na_dropped.shape[1]\n",
    "dropped_columns = cols_in_original_dataset - cols_in_na_dropped\n",
    "# Check your answer\n",
    "q5.check()"
   ]
  },
  {
   "cell_type": "code",
   "execution_count": 14,
   "id": "94ab6759",
   "metadata": {
    "execution": {
     "iopub.execute_input": "2024-03-26T07:27:57.924250Z",
     "iopub.status.busy": "2024-03-26T07:27:57.923713Z",
     "iopub.status.idle": "2024-03-26T07:27:57.935868Z",
     "shell.execute_reply": "2024-03-26T07:27:57.934566Z"
    },
    "papermill": {
     "duration": 0.027822,
     "end_time": "2024-03-26T07:27:57.938390",
     "exception": false,
     "start_time": "2024-03-26T07:27:57.910568",
     "status": "completed"
    },
    "tags": []
   },
   "outputs": [
    {
     "data": {
      "application/javascript": [
       "parent.postMessage({\"jupyterEvent\": \"custom.exercise_interaction\", \"data\": {\"interactionType\": 3, \"questionType\": 1, \"questionId\": \"5_DropMissingCols\", \"learnToolsVersion\": \"0.3.4\", \"valueTowardsCompletion\": 0.0, \"failureMessage\": \"\", \"exceptionClass\": \"\", \"trace\": \"\", \"outcomeType\": 4}}, \"*\")"
      ],
      "text/plain": [
       "<IPython.core.display.Javascript object>"
      ]
     },
     "metadata": {},
     "output_type": "display_data"
    },
    {
     "data": {
      "text/markdown": [
       "<span style=\"color:#33cc99\">Solution:</span> \n",
       "```python\n",
       "# remove all columns with at least one missing value\n",
       "sf_permits_with_na_dropped = sf_permits.dropna(axis=1)\n",
       "\n",
       "# calculate number of dropped columns\n",
       "cols_in_original_dataset = sf_permits.shape[1]\n",
       "cols_in_na_dropped = sf_permits_with_na_dropped.shape[1]\n",
       "dropped_columns = cols_in_original_dataset - cols_in_na_dropped\n",
       "\n",
       "```"
      ],
      "text/plain": [
       "Solution: \n",
       "```python\n",
       "# remove all columns with at least one missing value\n",
       "sf_permits_with_na_dropped = sf_permits.dropna(axis=1)\n",
       "\n",
       "# calculate number of dropped columns\n",
       "cols_in_original_dataset = sf_permits.shape[1]\n",
       "cols_in_na_dropped = sf_permits_with_na_dropped.shape[1]\n",
       "dropped_columns = cols_in_original_dataset - cols_in_na_dropped\n",
       "\n",
       "```"
      ]
     },
     "metadata": {},
     "output_type": "display_data"
    }
   ],
   "source": [
    "# Lines below will give you a hint or solution code\n",
    "#q5.hint()\n",
    "q5.solution()"
   ]
  },
  {
   "cell_type": "markdown",
   "id": "c8ff1964",
   "metadata": {
    "papermill": {
     "duration": 0.011324,
     "end_time": "2024-03-26T07:27:57.961424",
     "exception": false,
     "start_time": "2024-03-26T07:27:57.950100",
     "status": "completed"
    },
    "tags": []
   },
   "source": [
    "# 6) Fill in missing values automatically\n",
    "\n",
    "Try replacing all the NaN's in the `sf_permits` data with the one that comes directly after it and then replacing any remaining NaN's with 0.  Set the result to a new DataFrame `sf_permits_with_na_imputed`."
   ]
  },
  {
   "cell_type": "code",
   "execution_count": 15,
   "id": "0fcd7492",
   "metadata": {
    "execution": {
     "iopub.execute_input": "2024-03-26T07:27:57.986411Z",
     "iopub.status.busy": "2024-03-26T07:27:57.985981Z",
     "iopub.status.idle": "2024-03-26T07:27:57.997395Z",
     "shell.execute_reply": "2024-03-26T07:27:57.995761Z"
    },
    "papermill": {
     "duration": 0.027202,
     "end_time": "2024-03-26T07:27:58.000158",
     "exception": false,
     "start_time": "2024-03-26T07:27:57.972956",
     "status": "completed"
    },
    "tags": []
   },
   "outputs": [
    {
     "data": {
      "application/javascript": [
       "parent.postMessage({\"jupyterEvent\": \"custom.exercise_interaction\", \"data\": {\"outcomeType\": 4, \"interactionType\": 1, \"questionType\": 1, \"questionId\": \"6_ImputeAutomatically\", \"learnToolsVersion\": \"0.3.4\", \"valueTowardsCompletion\": 0.0, \"failureMessage\": \"\", \"exceptionClass\": \"\", \"trace\": \"\"}}, \"*\")"
      ],
      "text/plain": [
       "<IPython.core.display.Javascript object>"
      ]
     },
     "metadata": {},
     "output_type": "display_data"
    },
    {
     "data": {
      "text/markdown": [
       "<span style=\"color:#ccaa33\">Check:</span> When you've updated the starter code, `check()` will tell you whether your code is correct. You need to update the code that creates variable `sf_permits_with_na_imputed`"
      ],
      "text/plain": [
       "Check: When you've updated the starter code, `check()` will tell you whether your code is correct. You need to update the code that creates variable `sf_permits_with_na_imputed`"
      ]
     },
     "metadata": {},
     "output_type": "display_data"
    }
   ],
   "source": [
    "# TODO: Your code here\n",
    "sf_permits_with_na_imputed = ____\n",
    "\n",
    "# Check your answer\n",
    "q6.check()"
   ]
  },
  {
   "cell_type": "code",
   "execution_count": 16,
   "id": "59dd1462",
   "metadata": {
    "execution": {
     "iopub.execute_input": "2024-03-26T07:27:58.027146Z",
     "iopub.status.busy": "2024-03-26T07:27:58.026711Z",
     "iopub.status.idle": "2024-03-26T07:27:58.032425Z",
     "shell.execute_reply": "2024-03-26T07:27:58.030914Z"
    },
    "papermill": {
     "duration": 0.022037,
     "end_time": "2024-03-26T07:27:58.035067",
     "exception": false,
     "start_time": "2024-03-26T07:27:58.013030",
     "status": "completed"
    },
    "tags": []
   },
   "outputs": [],
   "source": [
    "# Lines below will give you a hint or solution code\n",
    "#q6.hint()\n",
    "#q6.solution()"
   ]
  },
  {
   "cell_type": "markdown",
   "id": "fe1b7c16",
   "metadata": {
    "papermill": {
     "duration": 0.012063,
     "end_time": "2024-03-26T07:27:58.059232",
     "exception": false,
     "start_time": "2024-03-26T07:27:58.047169",
     "status": "completed"
    },
    "tags": []
   },
   "source": [
    "# More practice\n",
    "\n",
    "If you're looking for more practice handling missing values:\n",
    "\n",
    "* Check out [this noteboook](https://www.kaggle.com/alexisbcook/missing-values) on handling missing values using scikit-learn's imputer. \n",
    "* Look back at the \"Zipcode\" column in the `sf_permits` dataset, which has some missing values. How would you go about figuring out what the actual zipcode of each address should be? (You might try using another dataset. You can search for datasets about San Fransisco on the [Datasets listing](https://www.kaggle.com/datasets).) \n",
    "\n",
    "# Keep going\n",
    "\n",
    "In the next lesson, learn how to [**apply scaling and normalization**](https://www.kaggle.com/alexisbcook/scaling-and-normalization) to transform your data."
   ]
  },
  {
   "cell_type": "markdown",
   "id": "3b8e53cf",
   "metadata": {
    "papermill": {
     "duration": 0.01174,
     "end_time": "2024-03-26T07:27:58.083038",
     "exception": false,
     "start_time": "2024-03-26T07:27:58.071298",
     "status": "completed"
    },
    "tags": []
   },
   "source": [
    "---\n",
    "\n",
    "\n",
    "\n",
    "\n",
    "*Have questions or comments? Visit the [course discussion forum](https://www.kaggle.com/learn/data-cleaning/discussion) to chat with other learners.*"
   ]
  }
 ],
 "metadata": {
  "kaggle": {
   "accelerator": "none",
   "dataSources": [
    {
     "datasetId": 16432,
     "sourceId": 21688,
     "sourceType": "datasetVersion"
    }
   ],
   "isGpuEnabled": false,
   "isInternetEnabled": false,
   "language": "python",
   "sourceType": "notebook"
  },
  "kernelspec": {
   "display_name": "Python 3",
   "language": "python",
   "name": "python3"
  },
  "language_info": {
   "codemirror_mode": {
    "name": "ipython",
    "version": 3
   },
   "file_extension": ".py",
   "mimetype": "text/x-python",
   "name": "python",
   "nbconvert_exporter": "python",
   "pygments_lexer": "ipython3",
   "version": "3.10.13"
  },
  "papermill": {
   "default_parameters": {},
   "duration": 18.818538,
   "end_time": "2024-03-26T07:27:58.920429",
   "environment_variables": {},
   "exception": null,
   "input_path": "__notebook__.ipynb",
   "output_path": "__notebook__.ipynb",
   "parameters": {},
   "start_time": "2024-03-26T07:27:40.101891",
   "version": "2.5.0"
  }
 },
 "nbformat": 4,
 "nbformat_minor": 5
}
