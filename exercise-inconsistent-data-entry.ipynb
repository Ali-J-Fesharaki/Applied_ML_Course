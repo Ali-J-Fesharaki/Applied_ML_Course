{
 "cells": [
  {
   "cell_type": "markdown",
   "id": "fdc09458",
   "metadata": {
    "papermill": {
     "duration": 0.007934,
     "end_time": "2024-03-25T14:49:28.138451",
     "exception": false,
     "start_time": "2024-03-25T14:49:28.130517",
     "status": "completed"
    },
    "tags": []
   },
   "source": [
    "**This notebook is an exercise in the [Data Cleaning](https://www.kaggle.com/learn/data-cleaning) course.  You can reference the tutorial at [this link](https://www.kaggle.com/alexisbcook/inconsistent-data-entry).**\n",
    "\n",
    "---\n"
   ]
  },
  {
   "cell_type": "markdown",
   "id": "ef6e1ae3",
   "metadata": {
    "papermill": {
     "duration": 0.006931,
     "end_time": "2024-03-25T14:49:28.152991",
     "exception": false,
     "start_time": "2024-03-25T14:49:28.146060",
     "status": "completed"
    },
    "tags": []
   },
   "source": [
    "In this exercise, you'll apply what you learned in the **Inconsistent data entry** tutorial.\n",
    "\n",
    "# Setup\n",
    "\n",
    "The questions below will give you feedback on your work. Run the following cell to set up the feedback system."
   ]
  },
  {
   "cell_type": "code",
   "execution_count": 1,
   "id": "9760e2b5",
   "metadata": {
    "execution": {
     "iopub.execute_input": "2024-03-25T14:49:28.171236Z",
     "iopub.status.busy": "2024-03-25T14:49:28.169882Z",
     "iopub.status.idle": "2024-03-25T14:49:29.662095Z",
     "shell.execute_reply": "2024-03-25T14:49:29.660558Z"
    },
    "papermill": {
     "duration": 1.504782,
     "end_time": "2024-03-25T14:49:29.665246",
     "exception": false,
     "start_time": "2024-03-25T14:49:28.160464",
     "status": "completed"
    },
    "tags": []
   },
   "outputs": [
    {
     "name": "stdout",
     "output_type": "stream",
     "text": [
      "Setup Complete\n"
     ]
    }
   ],
   "source": [
    "from learntools.core import binder\n",
    "binder.bind(globals())\n",
    "from learntools.data_cleaning.ex5 import *\n",
    "print(\"Setup Complete\")"
   ]
  },
  {
   "cell_type": "markdown",
   "id": "ed513cff",
   "metadata": {
    "papermill": {
     "duration": 0.00762,
     "end_time": "2024-03-25T14:49:29.680985",
     "exception": false,
     "start_time": "2024-03-25T14:49:29.673365",
     "status": "completed"
    },
    "tags": []
   },
   "source": [
    "# Get our environment set up\n",
    "\n",
    "The first thing we'll need to do is load in the libraries and dataset we'll be using.  We use the same dataset from the tutorial."
   ]
  },
  {
   "cell_type": "code",
   "execution_count": 2,
   "id": "242a2b51",
   "metadata": {
    "execution": {
     "iopub.execute_input": "2024-03-25T14:49:29.698937Z",
     "iopub.status.busy": "2024-03-25T14:49:29.697882Z",
     "iopub.status.idle": "2024-03-25T14:49:29.719529Z",
     "shell.execute_reply": "2024-03-25T14:49:29.718027Z"
    },
    "papermill": {
     "duration": 0.034569,
     "end_time": "2024-03-25T14:49:29.723043",
     "exception": false,
     "start_time": "2024-03-25T14:49:29.688474",
     "status": "completed"
    },
    "tags": []
   },
   "outputs": [],
   "source": [
    "# modules we'll use\n",
    "import pandas as pd\n",
    "import numpy as np\n",
    "\n",
    "# helpful modules\n",
    "import fuzzywuzzy\n",
    "from fuzzywuzzy import process\n",
    "import charset_normalizer\n",
    "\n",
    "# read in all our data\n",
    "professors = pd.read_csv(\"../input/pakistan-intellectual-capital/pakistan_intellectual_capital.csv\")\n",
    "\n",
    "# set seed for reproducibility\n",
    "np.random.seed(0)"
   ]
  },
  {
   "cell_type": "markdown",
   "id": "82fc9bf1",
   "metadata": {
    "papermill": {
     "duration": 0.007119,
     "end_time": "2024-03-25T14:49:29.737722",
     "exception": false,
     "start_time": "2024-03-25T14:49:29.730603",
     "status": "completed"
    },
    "tags": []
   },
   "source": [
    "Next, we'll redo all of the work that we did in the tutorial."
   ]
  },
  {
   "cell_type": "code",
   "execution_count": 3,
   "id": "1060365e",
   "metadata": {
    "execution": {
     "iopub.execute_input": "2024-03-25T14:49:29.755514Z",
     "iopub.status.busy": "2024-03-25T14:49:29.755025Z",
     "iopub.status.idle": "2024-03-25T14:49:29.775065Z",
     "shell.execute_reply": "2024-03-25T14:49:29.773061Z"
    },
    "papermill": {
     "duration": 0.033126,
     "end_time": "2024-03-25T14:49:29.778760",
     "exception": false,
     "start_time": "2024-03-25T14:49:29.745634",
     "status": "completed"
    },
    "tags": []
   },
   "outputs": [
    {
     "name": "stdout",
     "output_type": "stream",
     "text": [
      "All done!\n"
     ]
    }
   ],
   "source": [
    "# convert to lower case\n",
    "professors['Country'] = professors['Country'].str.lower()\n",
    "# remove trailing white spaces\n",
    "professors['Country'] = professors['Country'].str.strip()\n",
    "\n",
    "# get the top 10 closest matches to \"south korea\"\n",
    "countries = professors['Country'].unique()\n",
    "matches = fuzzywuzzy.process.extract(\"south korea\", countries, limit=10, scorer=fuzzywuzzy.fuzz.token_sort_ratio)\n",
    "\n",
    "def replace_matches_in_column(df, column, string_to_match, min_ratio = 47):\n",
    "    # get a list of unique strings\n",
    "    strings = df[column].unique()\n",
    "    \n",
    "    # get the top 10 closest matches to our input string\n",
    "    matches = fuzzywuzzy.process.extract(string_to_match, strings, \n",
    "                                         limit=10, scorer=fuzzywuzzy.fuzz.token_sort_ratio)\n",
    "\n",
    "    # only get matches with a ratio > 90\n",
    "    close_matches = [matches[0] for matches in matches if matches[1] >= min_ratio]\n",
    "\n",
    "    # get the rows of all the close matches in our dataframe\n",
    "    rows_with_matches = df[column].isin(close_matches)\n",
    "\n",
    "    # replace all rows with close matches with the input matches \n",
    "    df.loc[rows_with_matches, column] = string_to_match\n",
    "    \n",
    "    # let us know the function's done\n",
    "    print(\"All done!\")\n",
    "    \n",
    "replace_matches_in_column(df=professors, column='Country', string_to_match=\"south korea\")\n",
    "countries = professors['Country'].unique()"
   ]
  },
  {
   "cell_type": "markdown",
   "id": "809b9db2",
   "metadata": {
    "papermill": {
     "duration": 0.00734,
     "end_time": "2024-03-25T14:49:29.794225",
     "exception": false,
     "start_time": "2024-03-25T14:49:29.786885",
     "status": "completed"
    },
    "tags": []
   },
   "source": [
    "# 1) Examine another column\n",
    "\n",
    "Write code below to take a look at all the unique values in the \"Graduated from\" column."
   ]
  },
  {
   "cell_type": "code",
   "execution_count": 4,
   "id": "38a1a4a6",
   "metadata": {
    "execution": {
     "iopub.execute_input": "2024-03-25T14:49:29.811690Z",
     "iopub.status.busy": "2024-03-25T14:49:29.811272Z",
     "iopub.status.idle": "2024-03-25T14:49:29.816975Z",
     "shell.execute_reply": "2024-03-25T14:49:29.815560Z"
    },
    "papermill": {
     "duration": 0.018101,
     "end_time": "2024-03-25T14:49:29.819820",
     "exception": false,
     "start_time": "2024-03-25T14:49:29.801719",
     "status": "completed"
    },
    "tags": []
   },
   "outputs": [],
   "source": [
    "# TODO: Your code here"
   ]
  },
  {
   "cell_type": "markdown",
   "id": "1bfc70a3",
   "metadata": {
    "papermill": {
     "duration": 0.007057,
     "end_time": "2024-03-25T14:49:29.834466",
     "exception": false,
     "start_time": "2024-03-25T14:49:29.827409",
     "status": "completed"
    },
    "tags": []
   },
   "source": [
    "Do you notice any inconsistencies in the data?  Can any of the inconsistencies in the data be fixed by removing white spaces at the beginning and end of cells?\n",
    "\n",
    "Once you have answered these questions, run the code cell below to get credit for your work."
   ]
  },
  {
   "cell_type": "code",
   "execution_count": 5,
   "id": "e92e9641",
   "metadata": {
    "execution": {
     "iopub.execute_input": "2024-03-25T14:49:29.851344Z",
     "iopub.status.busy": "2024-03-25T14:49:29.850913Z",
     "iopub.status.idle": "2024-03-25T14:49:29.861122Z",
     "shell.execute_reply": "2024-03-25T14:49:29.860134Z"
    },
    "papermill": {
     "duration": 0.021627,
     "end_time": "2024-03-25T14:49:29.863500",
     "exception": false,
     "start_time": "2024-03-25T14:49:29.841873",
     "status": "completed"
    },
    "tags": []
   },
   "outputs": [
    {
     "data": {
      "application/javascript": [
       "parent.postMessage({\"jupyterEvent\": \"custom.exercise_interaction\", \"data\": {\"outcomeType\": 1, \"valueTowardsCompletion\": 0.3333333333333333, \"interactionType\": 1, \"questionType\": 4, \"questionId\": \"1_ExamineProvince\", \"learnToolsVersion\": \"0.3.4\", \"failureMessage\": \"\", \"exceptionClass\": \"\", \"trace\": \"\"}}, \"*\")"
      ],
      "text/plain": [
       "<IPython.core.display.Javascript object>"
      ]
     },
     "metadata": {},
     "output_type": "display_data"
    },
    {
     "data": {
      "text/markdown": [
       "<span style=\"color:#33cc33\">Correct:</span> \n",
       "\n",
       "There are inconsistencies that can be fixed by removing white spaces at the beginning and end of cells.  For instance, \"University of Central Florida\" and \" University of Central Florida\" both appear in the column."
      ],
      "text/plain": [
       "Correct: \n",
       "\n",
       "There are inconsistencies that can be fixed by removing white spaces at the beginning and end of cells.  For instance, \"University of Central Florida\" and \" University of Central Florida\" both appear in the column."
      ]
     },
     "metadata": {},
     "output_type": "display_data"
    }
   ],
   "source": [
    "# Check your answer (Run this code cell to receive credit!)\n",
    "q1.check()"
   ]
  },
  {
   "cell_type": "code",
   "execution_count": 6,
   "id": "e61982ea",
   "metadata": {
    "execution": {
     "iopub.execute_input": "2024-03-25T14:49:29.883321Z",
     "iopub.status.busy": "2024-03-25T14:49:29.882077Z",
     "iopub.status.idle": "2024-03-25T14:49:29.887396Z",
     "shell.execute_reply": "2024-03-25T14:49:29.886148Z"
    },
    "papermill": {
     "duration": 0.017915,
     "end_time": "2024-03-25T14:49:29.890346",
     "exception": false,
     "start_time": "2024-03-25T14:49:29.872431",
     "status": "completed"
    },
    "tags": []
   },
   "outputs": [],
   "source": [
    "# Line below will give you a hint\n",
    "#q1.hint()"
   ]
  },
  {
   "cell_type": "markdown",
   "id": "bf9b9c0d",
   "metadata": {
    "papermill": {
     "duration": 0.008183,
     "end_time": "2024-03-25T14:49:29.907771",
     "exception": false,
     "start_time": "2024-03-25T14:49:29.899588",
     "status": "completed"
    },
    "tags": []
   },
   "source": [
    "# 2) Do some text pre-processing\n",
    "\n",
    "Convert every entry in the \"Graduated from\" column in the `professors` DataFrame to remove white spaces at the beginning and end of cells."
   ]
  },
  {
   "cell_type": "code",
   "execution_count": 7,
   "id": "09538b1b",
   "metadata": {
    "execution": {
     "iopub.execute_input": "2024-03-25T14:49:29.927120Z",
     "iopub.status.busy": "2024-03-25T14:49:29.926709Z",
     "iopub.status.idle": "2024-03-25T14:49:29.941434Z",
     "shell.execute_reply": "2024-03-25T14:49:29.939781Z"
    },
    "papermill": {
     "duration": 0.028509,
     "end_time": "2024-03-25T14:49:29.944318",
     "exception": false,
     "start_time": "2024-03-25T14:49:29.915809",
     "status": "completed"
    },
    "tags": []
   },
   "outputs": [
    {
     "data": {
      "application/javascript": [
       "parent.postMessage({\"jupyterEvent\": \"custom.exercise_interaction\", \"data\": {\"outcomeType\": 1, \"valueTowardsCompletion\": 0.3333333333333333, \"interactionType\": 1, \"questionType\": 1, \"questionId\": \"2_TextProcessing\", \"learnToolsVersion\": \"0.3.4\", \"failureMessage\": \"\", \"exceptionClass\": \"\", \"trace\": \"\"}}, \"*\")"
      ],
      "text/plain": [
       "<IPython.core.display.Javascript object>"
      ]
     },
     "metadata": {},
     "output_type": "display_data"
    },
    {
     "data": {
      "text/markdown": [
       "<span style=\"color:#33cc33\">Correct</span>"
      ],
      "text/plain": [
       "Correct"
      ]
     },
     "metadata": {},
     "output_type": "display_data"
    }
   ],
   "source": [
    "# TODO: Your code here\n",
    "professors['Graduated from'] = professors['Graduated from'].str.strip()\n",
    "\n",
    "\n",
    "# Check your answer\n",
    "q2.check()"
   ]
  },
  {
   "cell_type": "code",
   "execution_count": 8,
   "id": "250d7a05",
   "metadata": {
    "execution": {
     "iopub.execute_input": "2024-03-25T14:49:29.964802Z",
     "iopub.status.busy": "2024-03-25T14:49:29.964379Z",
     "iopub.status.idle": "2024-03-25T14:49:29.973729Z",
     "shell.execute_reply": "2024-03-25T14:49:29.972835Z"
    },
    "papermill": {
     "duration": 0.023244,
     "end_time": "2024-03-25T14:49:29.976032",
     "exception": false,
     "start_time": "2024-03-25T14:49:29.952788",
     "status": "completed"
    },
    "tags": []
   },
   "outputs": [
    {
     "data": {
      "application/javascript": [
       "parent.postMessage({\"jupyterEvent\": \"custom.exercise_interaction\", \"data\": {\"interactionType\": 3, \"questionType\": 1, \"questionId\": \"2_TextProcessing\", \"learnToolsVersion\": \"0.3.4\", \"valueTowardsCompletion\": 0.0, \"failureMessage\": \"\", \"exceptionClass\": \"\", \"trace\": \"\", \"outcomeType\": 4}}, \"*\")"
      ],
      "text/plain": [
       "<IPython.core.display.Javascript object>"
      ]
     },
     "metadata": {},
     "output_type": "display_data"
    },
    {
     "data": {
      "text/markdown": [
       "<span style=\"color:#33cc99\">Solution:</span> \n",
       "```python\n",
       "professors['Graduated from'] = professors['Graduated from'].str.strip()\n",
       "\n",
       "```"
      ],
      "text/plain": [
       "Solution: \n",
       "```python\n",
       "professors['Graduated from'] = professors['Graduated from'].str.strip()\n",
       "\n",
       "```"
      ]
     },
     "metadata": {},
     "output_type": "display_data"
    }
   ],
   "source": [
    "# Lines below will give you a hint or solution code\n",
    "#q2.hint()\n",
    "q2.solution()"
   ]
  },
  {
   "cell_type": "markdown",
   "id": "b4222917",
   "metadata": {
    "papermill": {
     "duration": 0.008135,
     "end_time": "2024-03-25T14:49:29.992762",
     "exception": false,
     "start_time": "2024-03-25T14:49:29.984627",
     "status": "completed"
    },
    "tags": []
   },
   "source": [
    "# 3) Continue working with countries\n",
    "\n",
    "In the tutorial, we focused on cleaning up inconsistencies in the \"Country\" column.  Run the code cell below to view the list of unique values that we ended with."
   ]
  },
  {
   "cell_type": "code",
   "execution_count": 9,
   "id": "280a9ecf",
   "metadata": {
    "execution": {
     "iopub.execute_input": "2024-03-25T14:49:30.015183Z",
     "iopub.status.busy": "2024-03-25T14:49:30.014714Z",
     "iopub.status.idle": "2024-03-25T14:49:30.023593Z",
     "shell.execute_reply": "2024-03-25T14:49:30.022648Z"
    },
    "papermill": {
     "duration": 0.024552,
     "end_time": "2024-03-25T14:49:30.026107",
     "exception": false,
     "start_time": "2024-03-25T14:49:30.001555",
     "status": "completed"
    },
    "tags": []
   },
   "outputs": [
    {
     "data": {
      "text/plain": [
       "array(['australia', 'austria', 'canada', 'china', 'finland', 'france',\n",
       "       'germany', 'greece', 'hongkong', 'ireland', 'italy', 'japan',\n",
       "       'macau', 'malaysia', 'mauritius', 'netherland', 'new zealand',\n",
       "       'norway', 'pakistan', 'portugal', 'russian federation',\n",
       "       'saudi arabia', 'scotland', 'singapore', 'south korea', 'spain',\n",
       "       'sweden', 'thailand', 'turkey', 'uk', 'urbana', 'usa', 'usofa'],\n",
       "      dtype=object)"
      ]
     },
     "execution_count": 9,
     "metadata": {},
     "output_type": "execute_result"
    }
   ],
   "source": [
    "# get all the unique values in the 'City' column\n",
    "countries = professors['Country'].unique()\n",
    "\n",
    "# sort them alphabetically and then take a closer look\n",
    "countries.sort()\n",
    "countries"
   ]
  },
  {
   "cell_type": "markdown",
   "id": "ffb3185b",
   "metadata": {
    "papermill": {
     "duration": 0.008443,
     "end_time": "2024-03-25T14:49:30.043326",
     "exception": false,
     "start_time": "2024-03-25T14:49:30.034883",
     "status": "completed"
    },
    "tags": []
   },
   "source": [
    "Take another look at the \"Country\" column and see if there's any more data cleaning we need to do.\n",
    "\n",
    "It looks like 'usa' and 'usofa' should be the same country.  Correct the \"Country\" column in the dataframe to replace 'usofa' with 'usa'.\n",
    "\n",
    "**Use the most recent version of the DataFrame (with the whitespaces at the beginning and end of cells removed) from question 2.**"
   ]
  },
  {
   "cell_type": "code",
   "execution_count": 10,
   "id": "94648ebd",
   "metadata": {
    "execution": {
     "iopub.execute_input": "2024-03-25T14:49:30.063894Z",
     "iopub.status.busy": "2024-03-25T14:49:30.063347Z",
     "iopub.status.idle": "2024-03-25T14:49:30.079551Z",
     "shell.execute_reply": "2024-03-25T14:49:30.078572Z"
    },
    "papermill": {
     "duration": 0.030087,
     "end_time": "2024-03-25T14:49:30.082166",
     "exception": false,
     "start_time": "2024-03-25T14:49:30.052079",
     "status": "completed"
    },
    "tags": []
   },
   "outputs": [
    {
     "name": "stdout",
     "output_type": "stream",
     "text": [
      "All done!\n"
     ]
    },
    {
     "data": {
      "application/javascript": [
       "parent.postMessage({\"jupyterEvent\": \"custom.exercise_interaction\", \"data\": {\"outcomeType\": 1, \"valueTowardsCompletion\": 0.3333333333333333, \"interactionType\": 1, \"questionType\": 1, \"questionId\": \"3_WorkingWithCities\", \"learnToolsVersion\": \"0.3.4\", \"failureMessage\": \"\", \"exceptionClass\": \"\", \"trace\": \"\"}}, \"*\")"
      ],
      "text/plain": [
       "<IPython.core.display.Javascript object>"
      ]
     },
     "metadata": {},
     "output_type": "display_data"
    },
    {
     "data": {
      "text/markdown": [
       "<span style=\"color:#33cc33\">Correct</span>"
      ],
      "text/plain": [
       "Correct"
      ]
     },
     "metadata": {},
     "output_type": "display_data"
    }
   ],
   "source": [
    "# TODO: Your code here!\n",
    "matches = fuzzywuzzy.process.extract(\"usa\", countries, limit=10, scorer=fuzzywuzzy.fuzz.token_sort_ratio)\n",
    "replace_matches_in_column(df=professors, column='Country', string_to_match=\"usa\", min_ratio=70)\n",
    "\n",
    "# Check your answer\n",
    "q3.check()"
   ]
  },
  {
   "cell_type": "code",
   "execution_count": 11,
   "id": "b2165725",
   "metadata": {
    "execution": {
     "iopub.execute_input": "2024-03-25T14:49:30.104113Z",
     "iopub.status.busy": "2024-03-25T14:49:30.103697Z",
     "iopub.status.idle": "2024-03-25T14:49:30.112528Z",
     "shell.execute_reply": "2024-03-25T14:49:30.111526Z"
    },
    "papermill": {
     "duration": 0.023627,
     "end_time": "2024-03-25T14:49:30.115162",
     "exception": false,
     "start_time": "2024-03-25T14:49:30.091535",
     "status": "completed"
    },
    "tags": []
   },
   "outputs": [
    {
     "data": {
      "application/javascript": [
       "parent.postMessage({\"jupyterEvent\": \"custom.exercise_interaction\", \"data\": {\"interactionType\": 3, \"questionType\": 1, \"questionId\": \"3_WorkingWithCities\", \"learnToolsVersion\": \"0.3.4\", \"valueTowardsCompletion\": 0.0, \"failureMessage\": \"\", \"exceptionClass\": \"\", \"trace\": \"\", \"outcomeType\": 4}}, \"*\")"
      ],
      "text/plain": [
       "<IPython.core.display.Javascript object>"
      ]
     },
     "metadata": {},
     "output_type": "display_data"
    },
    {
     "data": {
      "text/markdown": [
       "<span style=\"color:#33cc99\">Solution:</span> \n",
       "```python\n",
       "matches = fuzzywuzzy.process.extract(\"usa\", countries, limit=10, scorer=fuzzywuzzy.fuzz.token_sort_ratio)\n",
       "replace_matches_in_column(df=professors, column='Country', string_to_match=\"usa\", min_ratio=70)\n",
       "\n",
       "```"
      ],
      "text/plain": [
       "Solution: \n",
       "```python\n",
       "matches = fuzzywuzzy.process.extract(\"usa\", countries, limit=10, scorer=fuzzywuzzy.fuzz.token_sort_ratio)\n",
       "replace_matches_in_column(df=professors, column='Country', string_to_match=\"usa\", min_ratio=70)\n",
       "\n",
       "```"
      ]
     },
     "metadata": {},
     "output_type": "display_data"
    }
   ],
   "source": [
    "# Lines below will give you a hint or solution code\n",
    "#q3.hint()\n",
    "q3.solution()"
   ]
  },
  {
   "cell_type": "markdown",
   "id": "7ea12a7a",
   "metadata": {
    "papermill": {
     "duration": 0.009309,
     "end_time": "2024-03-25T14:49:30.134063",
     "exception": false,
     "start_time": "2024-03-25T14:49:30.124754",
     "status": "completed"
    },
    "tags": []
   },
   "source": [
    "# Congratulations!\n",
    "\n",
    "Congratulations for completing the **Data Cleaning** course on Kaggle Learn!\n",
    "\n",
    "To practice your new skills, you're encouraged to download and investigate some of [Kaggle's Datasets](https://www.kaggle.com/datasets)."
   ]
  },
  {
   "cell_type": "markdown",
   "id": "648b9574",
   "metadata": {
    "papermill": {
     "duration": 0.009698,
     "end_time": "2024-03-25T14:49:30.153337",
     "exception": false,
     "start_time": "2024-03-25T14:49:30.143639",
     "status": "completed"
    },
    "tags": []
   },
   "source": [
    "---\n",
    "\n",
    "\n",
    "\n",
    "\n",
    "*Have questions or comments? Visit the [course discussion forum](https://www.kaggle.com/learn/data-cleaning/discussion) to chat with other learners.*"
   ]
  }
 ],
 "metadata": {
  "kaggle": {
   "accelerator": "none",
   "dataSources": [
    {
     "datasetId": 819513,
     "sourceId": 1402182,
     "sourceType": "datasetVersion"
    }
   ],
   "isGpuEnabled": false,
   "isInternetEnabled": false,
   "language": "python",
   "sourceType": "notebook"
  },
  "kernelspec": {
   "display_name": "Python 3",
   "language": "python",
   "name": "python3"
  },
  "language_info": {
   "codemirror_mode": {
    "name": "ipython",
    "version": 3
   },
   "file_extension": ".py",
   "mimetype": "text/x-python",
   "name": "python",
   "nbconvert_exporter": "python",
   "pygments_lexer": "ipython3",
   "version": "3.10.13"
  },
  "papermill": {
   "default_parameters": {},
   "duration": 6.834824,
   "end_time": "2024-03-25T14:49:30.789109",
   "environment_variables": {},
   "exception": null,
   "input_path": "__notebook__.ipynb",
   "output_path": "__notebook__.ipynb",
   "parameters": {},
   "start_time": "2024-03-25T14:49:23.954285",
   "version": "2.5.0"
  }
 },
 "nbformat": 4,
 "nbformat_minor": 5
}
